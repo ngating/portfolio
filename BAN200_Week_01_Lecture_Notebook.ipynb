{
  "nbformat": 4,
  "nbformat_minor": 0,
  "metadata": {
    "colab": {
      "provenance": [],
      "include_colab_link": true
    },
    "kernelspec": {
      "name": "python3",
      "display_name": "Python 3"
    },
    "language_info": {
      "name": "python"
    }
  },
  "cells": [
    {
      "cell_type": "markdown",
      "metadata": {
        "id": "view-in-github",
        "colab_type": "text"
      },
      "source": [
        "<a href=\"https://colab.research.google.com/github/ngating/portfolio/blob/master/BAN200_Week_01_Lecture_Notebook.ipynb\" target=\"_parent\"><img src=\"https://colab.research.google.com/assets/colab-badge.svg\" alt=\"Open In Colab\"/></a>"
      ]
    },
    {
      "cell_type": "markdown",
      "source": [
        "# BAN200 Week 01 Lecture Notebook"
      ],
      "metadata": {
        "id": "sAr7zI8RT2kU"
      }
    },
    {
      "cell_type": "markdown",
      "source": [
        "This notebook is incomplete. I will be adding code to it during our lecture. However, I will not be sharing the completed version. I want you to add the code yourself: this will help you learn. Before modifying this template, make sure to save a copy to your personal Google Drive. If you haven't saved your own copy, any changes you make will be lost when you close your browser window."
      ],
      "metadata": {
        "id": "_DZzY0b3ghgq"
      }
    },
    {
      "cell_type": "markdown",
      "source": [
        "# Google Colab"
      ],
      "metadata": {
        "id": "TLc_DCPZT9l9"
      }
    },
    {
      "cell_type": "markdown",
      "metadata": {
        "id": "GJBs_flRovLc"
      },
      "source": [
        "The document you are reading is not a static web page, but an interactive environment called a Colab (or \"Colaboratory\") notebook that lets you write and execute code."
      ]
    },
    {
      "cell_type": "markdown",
      "source": [
        "For example, below is a code cell containing a \"Hello, World!\" Python script:"
      ],
      "metadata": {
        "id": "yd-OVtLkV1xN"
      }
    },
    {
      "cell_type": "code",
      "source": [
        "print('Hello, World!')"
      ],
      "metadata": {
        "id": "eC4dGySOV1Ex"
      },
      "execution_count": null,
      "outputs": []
    },
    {
      "cell_type": "markdown",
      "source": [
        "To execute this code, hover over the code cell and click the \"play\" button on the left."
      ],
      "metadata": {
        "id": "PhIvz5WNWD92"
      }
    },
    {
      "cell_type": "markdown",
      "source": [
        "Executing the above code will create an output cell underneath the code cell. Note that output cells only appear after you have executed the code. If you execute code that doesn't have any output, there will be no output cell."
      ],
      "metadata": {
        "id": "LhTlH4duXHKM"
      }
    },
    {
      "cell_type": "markdown",
      "source": [
        "When you execute code in a Colab notebook, it is executed on a Google-hosted virtual machine in the cloud. This means you don't have to worry about configuring your local computer."
      ],
      "metadata": {
        "id": "kZiSb6O-WKMh"
      }
    },
    {
      "cell_type": "markdown",
      "source": [
        "In addition to code and output cells, you can add text cells. This cell and most of the cells above are text cells."
      ],
      "metadata": {
        "id": "Z29iJ6ajWllV"
      }
    },
    {
      "cell_type": "markdown",
      "source": [
        "When you save a Colab notebook, all of the cells (code, output, and text) are saved. This allows you to share your code with others in a friendly format."
      ],
      "metadata": {
        "id": "4F_t4GgeUCy1"
      }
    },
    {
      "cell_type": "markdown",
      "source": [
        "However, when you close a Colab notebook your \"runtime\" is deleted. In other words, the virtual machine where your code was being executed will be wiped clean. Anything saved in the computer's memory, such as variables, will be deleted from the runtime. You'll need to rerun your code to get them back."
      ],
      "metadata": {
        "id": "2HE97xK7XxqZ"
      }
    },
    {
      "cell_type": "markdown",
      "source": [
        "# Python"
      ],
      "metadata": {
        "id": "2MkwM0CxY7SH"
      }
    },
    {
      "cell_type": "markdown",
      "source": [
        "Python is one of the most popular programming languages in the world. It is extremely versatile (i.e. can be used for a lot of different applications), has human-friendly syntax, is easy to learn, and can generate powerful programs in relatively few lines of code."
      ],
      "metadata": {
        "id": "5IUhUzGsY8sS"
      }
    },
    {
      "cell_type": "markdown",
      "source": [
        "Python is not a particularly efficient language: if you are doing something that takes a lot of compute power (such as training a deep learning model), Python is not as efficient as a language like C. Luckily, Python can use functions that were written in other languages like C. When we build deep learning models in this class, we will be using Python to run functions that are being implemented in C."
      ],
      "metadata": {
        "id": "uM8a5SbPa_u4"
      }
    },
    {
      "cell_type": "markdown",
      "source": [
        "# Basic Python Syntax"
      ],
      "metadata": {
        "id": "fVbWttZGdjp7"
      }
    },
    {
      "cell_type": "code",
      "source": [
        "# print a string\n",
        "# print a number\n",
        "# addition, subtraction, multiplication, division\n",
        "# equality and inequality\n",
        "# variables"
      ],
      "metadata": {
        "id": "RRcSBdCDeukv"
      },
      "execution_count": null,
      "outputs": []
    },
    {
      "cell_type": "markdown",
      "source": [
        "# Python Strings"
      ],
      "metadata": {
        "id": "SHRo70MdfHtY"
      }
    },
    {
      "cell_type": "code",
      "source": [
        "# string variable\n",
        "# string indexes\n",
        "# string.lower()\n",
        "# string.upper()"
      ],
      "metadata": {
        "id": "wor3Mr21fJs5"
      },
      "execution_count": null,
      "outputs": []
    },
    {
      "cell_type": "markdown",
      "source": [
        "# Python Lists"
      ],
      "metadata": {
        "id": "VjCY-Eo_fgwr"
      }
    },
    {
      "cell_type": "code",
      "source": [
        "# list of strings\n",
        "# list of numbers\n",
        "# list indexes"
      ],
      "metadata": {
        "id": "vYyo0JIlfkBj"
      },
      "execution_count": null,
      "outputs": []
    },
    {
      "cell_type": "markdown",
      "source": [
        "# Python Dictionaries"
      ],
      "metadata": {
        "id": "GBCWvJIofsMG"
      }
    },
    {
      "cell_type": "code",
      "source": [
        "# dictionary of students and grades\n",
        "# lookup value from key\n",
        "# check if key exists"
      ],
      "metadata": {
        "id": "b5v1e29Efup7"
      },
      "execution_count": null,
      "outputs": []
    },
    {
      "cell_type": "markdown",
      "source": [
        "# For Loops in Python"
      ],
      "metadata": {
        "id": "xuJ7OcNLf8TH"
      }
    },
    {
      "cell_type": "code",
      "source": [
        "# iterate over list\n",
        "# iterate using range()"
      ],
      "metadata": {
        "id": "XV6TFNQ6f_FI"
      },
      "execution_count": null,
      "outputs": []
    },
    {
      "cell_type": "markdown",
      "source": [
        "# If Statements in Python"
      ],
      "metadata": {
        "id": "52kpKVNwgDrg"
      }
    },
    {
      "cell_type": "code",
      "source": [
        "# if\n",
        "# else\n",
        "# elif"
      ],
      "metadata": {
        "id": "gdR_U_HVgHZZ"
      },
      "execution_count": null,
      "outputs": []
    },
    {
      "cell_type": "markdown",
      "source": [
        "# Functions in Python"
      ],
      "metadata": {
        "id": "XkGqFq6SeDCM"
      }
    },
    {
      "cell_type": "code",
      "source": [
        "# modify a list in-place\n",
        "# return a number"
      ],
      "metadata": {
        "id": "glPQ7364eEO-"
      },
      "execution_count": null,
      "outputs": []
    },
    {
      "cell_type": "markdown",
      "source": [
        "# Tokenization"
      ],
      "metadata": {
        "id": "dHPYmMdMhjUi"
      }
    },
    {
      "cell_type": "markdown",
      "source": [
        "Virtually all approaches to NLP begin by tokenizing text. Tokenization typically occurs at the word level but can also be done on characters, syllables, etc.."
      ],
      "metadata": {
        "id": "pGEYHN6khpR4"
      }
    },
    {
      "cell_type": "code",
      "source": [
        "# represent text as a Python list of word tokens\n",
        "# standardize tokens by making them all lowercase"
      ],
      "metadata": {
        "id": "H4kJV18Ihii9"
      },
      "execution_count": null,
      "outputs": []
    },
    {
      "cell_type": "markdown",
      "source": [
        "# Lexicon-Based Sentiment Analysis"
      ],
      "metadata": {
        "id": "LslXHMuUiBkg"
      }
    },
    {
      "cell_type": "markdown",
      "source": [
        "Lexicon-based sentiment analysis involves giving each word in a document a score and then adding-up those scores. Positive scores indicate positive sentiment, negative scores indicate negative sentiment."
      ],
      "metadata": {
        "id": "aF5Q31eZiEmB"
      }
    },
    {
      "cell_type": "code",
      "source": [
        "# represent a lexicon as a dictionary\n",
        "# use the lexicon and a list of tokens to calculate a sentiment score"
      ],
      "metadata": {
        "id": "ja-PofkziMEO"
      },
      "execution_count": null,
      "outputs": []
    },
    {
      "cell_type": "markdown",
      "source": [
        "# Bag of Words"
      ],
      "metadata": {
        "id": "FUYn_9IiisoC"
      }
    },
    {
      "cell_type": "markdown",
      "source": [
        "Lexicon-based sentiment analysis represents text as a Bag of Words.\n",
        "A Bag of Words representation of text is one in which the order of words is ignored. Bag of Words is widely used because it is easy to implement and works well in many applications. But ignoring word order means losing a lot of what gives text meaning."
      ],
      "metadata": {
        "id": "qHCfT6wMiI8q"
      }
    }
  ]
}